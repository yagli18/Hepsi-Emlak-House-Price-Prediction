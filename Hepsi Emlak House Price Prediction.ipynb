{
 "cells": [
  {
   "cell_type": "code",
   "execution_count": 2,
   "id": "9129ac08",
   "metadata": {},
   "outputs": [],
   "source": [
    "import numpy as np\n",
    "import pandas as pd\n",
    "from bs4 import BeautifulSoup\n",
    "import requests\n",
    "from csv import writer\n",
    "import re\n",
    "import seaborn as sns\n",
    "import matplotlib.pyplot as plt\n",
    "\n",
    "pd.set_option('display.max_columns',100)\n",
    "\n",
    "import warnings\n",
    "warnings.filterwarnings(\"ignore\")\n",
    "\n",
    "from sklearn.linear_model import LinearRegression\n",
    "from sklearn.linear_model import Ridge,Lasso\n",
    "from sklearn.linear_model import ElasticNet\n",
    "from sklearn.neighbors import KNeighborsRegressor\n",
    "from sklearn.ensemble import GradientBoostingRegressor\n",
    "\n",
    "from sklearn.tree import ExtraTreeRegressor\n",
    "from sklearn.tree import DecisionTreeRegressor\n",
    "from xgboost import XGBRegressor\n",
    "from sklearn.model_selection import train_test_split\n",
    "from sklearn.metrics import mean_squared_error,r2_score,mean_absolute_error\n",
    "\n",
    "\n",
    "from tensorflow.keras.models import Sequential\n",
    "from tensorflow.keras.layers import Dense, Activation\n",
    "from tensorflow.keras.optimizers import Adam\n",
    "from sklearn.preprocessing import MinMaxScaler\n",
    "scaler = MinMaxScaler()\n",
    "\n",
    "from sklearn.model_selection import train_test_split\n",
    "from sklearn.metrics import r2_score\n"
   ]
  },
  {
   "cell_type": "code",
   "execution_count": 3,
   "id": "2b583ea0",
   "metadata": {},
   "outputs": [],
   "source": [
    "def algo_test(x,y):        \n",
    "        R=Ridge()\n",
    "        Lass=Lasso()\n",
    "        E=ElasticNet()\n",
    "        GBR=GradientBoostingRegressor()\n",
    "        XGBC=XGBRegressor()\n",
    "        kn=KNeighborsRegressor()\n",
    "        \n",
    "        x_train,x_test,y_train,y_test=train_test_split(x,y,test_size=.1,random_state=13)\n",
    "        \n",
    "        algos=[R,Lass,E,GBR,XGBC,kn]\n",
    "        algo_names=['Ridge','Lasso','ElasticNet','Gradient Boosting','XGradientBoosting','KNeighbors']\n",
    "        \n",
    "        r2Score = []\n",
    "        rmse = []\n",
    "        mae = []\n",
    "        \n",
    "        result=pd.DataFrame(columns=['R2_score','RMSE','MAE'],index=algo_names)\n",
    "        \n",
    "        for algo in algos:\n",
    "            p=algo.fit(x_train,y_train).predict(x_test)\n",
    "            r2Score.append(r2_score(y_test,p))\n",
    "            rmse.append(mean_squared_error(y_test,p)**.5)\n",
    "            mae.append(mean_absolute_error(y_test,p))\n",
    "            \n",
    "        result['R2_score']=r2Score \n",
    "        result.RMSE=rmse\n",
    "        result.MAE=mae\n",
    "\n",
    "        return result.sort_values('R2_score',ascending=False)"
   ]
  },
  {
   "cell_type": "code",
   "execution_count": 56,
   "id": "56133d6f",
   "metadata": {},
   "outputs": [],
   "source": [
    "def house_scraping(sehir, max_page):\n",
    "    df=pd.DataFrame(columns=['Kiralik', 'Tanim','Oda','Alan', 'Yas', 'Kat', 'Fiyat'])\n",
    "    kiralik, tanim, oda, alan, yas, kat, konum, fiyat = [], [], [], [], [], [], [], []\n",
    "    \n",
    "    for page in range(max_page):\n",
    "        response = requests.get(f\"https://www.hepsiemlak.com/{sehir}-kiralik?page={page+1}\")\n",
    "        soup = BeautifulSoup(response.content,'html.parser')\n",
    "        lists = soup.find_all('li',class_=\"listing-item\")\n",
    "    \n",
    "        for i in lists:\n",
    "            kiralik.append(i.find('div',class_ = 'left').text.replace('\\n',''))\n",
    "            tanim.append(i.find('header',class_ = 'list-view-header').text.replace('\\n',''))\n",
    "            oda.append(i.find('span',class_ = 'celly houseRoomCount').text.replace('\\n',''))\n",
    "            alan.append(i.find('span',class_ = 'celly squareMeter list-view-size').text.replace('\\n',''))\n",
    "            yas.append(i.find('span',class_ = 'celly buildingAge').text.replace('\\n',''))\n",
    "            kat.append(i.find('span',class_ = 'celly floortype').text.replace('\\n',''))\n",
    "            konum.append(i.find('div',class_ = 'list-view-location').text.replace('\\n',''))\n",
    "            fiyat.append(i.find('span',class_ = 'list-view-price').text.replace('\\n',''))\n",
    "            \n",
    "    df['Kiralik']=kiralik        \n",
    "    df['Tanim']=tanim\n",
    "    df['Oda']=oda\n",
    "    df['Alan']=alan\n",
    "    df['Yas']=yas\n",
    "    df['Kat']=kat\n",
    "    df['Konum']=konum\n",
    "    df['Fiyat']=fiyat\n",
    "    return df"
   ]
  },
  {
   "cell_type": "code",
   "execution_count": 5,
   "id": "d77a3b01",
   "metadata": {},
   "outputs": [],
   "source": [
    "city='cankaya'"
   ]
  },
  {
   "cell_type": "code",
   "execution_count": 58,
   "id": "79806bb4",
   "metadata": {},
   "outputs": [],
   "source": [
    "df = house_scraping(city, 107) "
   ]
  },
  {
   "cell_type": "code",
   "execution_count": 59,
   "id": "e2d22ce9",
   "metadata": {},
   "outputs": [],
   "source": [
    "# bosluklar for dongusunun icinde silinirse hesaplama sursi cok uzar bu yuzden burada silecegiz\n",
    "f = lambda x: \" \".join(x.split())\n",
    "for i in df.columns:\n",
    "    df[i]=df[i].apply(f)"
   ]
  },
  {
   "cell_type": "code",
   "execution_count": 60,
   "id": "4422a8dd",
   "metadata": {},
   "outputs": [
    {
     "data": {
      "text/html": [
       "<div>\n",
       "<style scoped>\n",
       "    .dataframe tbody tr th:only-of-type {\n",
       "        vertical-align: middle;\n",
       "    }\n",
       "\n",
       "    .dataframe tbody tr th {\n",
       "        vertical-align: top;\n",
       "    }\n",
       "\n",
       "    .dataframe thead th {\n",
       "        text-align: right;\n",
       "    }\n",
       "</style>\n",
       "<table border=\"1\" class=\"dataframe\">\n",
       "  <thead>\n",
       "    <tr style=\"text-align: right;\">\n",
       "      <th></th>\n",
       "      <th>Kiralik</th>\n",
       "      <th>Tanim</th>\n",
       "      <th>Oda</th>\n",
       "      <th>Alan</th>\n",
       "      <th>Yas</th>\n",
       "      <th>Kat</th>\n",
       "      <th>Fiyat</th>\n",
       "      <th>Konum</th>\n",
       "    </tr>\n",
       "  </thead>\n",
       "  <tbody>\n",
       "    <tr>\n",
       "      <th>0</th>\n",
       "      <td>Kiralık Daire</td>\n",
       "      <td></td>\n",
       "      <td>3 + 1</td>\n",
       "      <td>135 m2</td>\n",
       "      <td>28 Yaşında</td>\n",
       "      <td>1. Kat</td>\n",
       "      <td>13.000 TL</td>\n",
       "      <td>Çankaya, Bahçelievler Mahallesi</td>\n",
       "    </tr>\n",
       "    <tr>\n",
       "      <th>1</th>\n",
       "      <td>Kiralık Daire</td>\n",
       "      <td>öğrencilere sokulluda 5+2 yapılı möbleli kiral...</td>\n",
       "      <td>4 + 2</td>\n",
       "      <td>300 m2</td>\n",
       "      <td>25 Yaşında</td>\n",
       "      <td>Teras Katı</td>\n",
       "      <td>12.500 TL</td>\n",
       "      <td>Çankaya, Harbiye Mahallesi</td>\n",
       "    </tr>\n",
       "    <tr>\n",
       "      <th>2</th>\n",
       "      <td>Kiralık Daire</td>\n",
       "      <td>panora yakını, muhteşem manzaralı,4+2 dubleks,...</td>\n",
       "      <td>4 + 2</td>\n",
       "      <td>220 m2</td>\n",
       "      <td>13 Yaşında</td>\n",
       "      <td>3. Kat</td>\n",
       "      <td>8.000 TL</td>\n",
       "      <td>Çankaya, Mürsel Uluç Mahallesi</td>\n",
       "    </tr>\n",
       "    <tr>\n",
       "      <th>3</th>\n",
       "      <td>Kiralık Daire</td>\n",
       "      <td>panora yakını, muhteşem 4+2, mobilyalı.75 m2…t...</td>\n",
       "      <td>4 + 2</td>\n",
       "      <td>220 m2</td>\n",
       "      <td>13 Yaşında</td>\n",
       "      <td>3. Kat</td>\n",
       "      <td>10.000 TL</td>\n",
       "      <td>Çankaya, Mürsel Uluç Mahallesi</td>\n",
       "    </tr>\n",
       "    <tr>\n",
       "      <th>4</th>\n",
       "      <td>Kiralık Daire</td>\n",
       "      <td>vesta...bölgede marka olmuş ultralüx sitede-gü...</td>\n",
       "      <td>4 + 2</td>\n",
       "      <td>350 m2</td>\n",
       "      <td>4 Yaşında</td>\n",
       "      <td>15. Kat</td>\n",
       "      <td>15.500 TL</td>\n",
       "      <td>Çankaya, Bademlidere Mahallesi</td>\n",
       "    </tr>\n",
       "    <tr>\n",
       "      <th>...</th>\n",
       "      <td>...</td>\n",
       "      <td>...</td>\n",
       "      <td>...</td>\n",
       "      <td>...</td>\n",
       "      <td>...</td>\n",
       "      <td>...</td>\n",
       "      <td>...</td>\n",
       "      <td>...</td>\n",
       "    </tr>\n",
       "    <tr>\n",
       "      <th>2563</th>\n",
       "      <td>Kiralık Daire</td>\n",
       "      <td>furnıshed flat ın cankaya wıth terrace</td>\n",
       "      <td>3 + 1</td>\n",
       "      <td>120 m2</td>\n",
       "      <td>40 Yaşında</td>\n",
       "      <td>Teras Katı</td>\n",
       "      <td>18.000 TL</td>\n",
       "      <td>Çankaya, Çankaya Mahallesi</td>\n",
       "    </tr>\n",
       "    <tr>\n",
       "      <th>2564</th>\n",
       "      <td>Kiralık Bina</td>\n",
       "      <td>mavi emlak'tan gop hülya sokak'ta komple kiral...</td>\n",
       "      <td>7 + 1</td>\n",
       "      <td>750 m2</td>\n",
       "      <td>25 Yaşında</td>\n",
       "      <td></td>\n",
       "      <td>88.000 TL</td>\n",
       "      <td>Çankaya, Gaziosmanpaşa Mahallesi</td>\n",
       "    </tr>\n",
       "    <tr>\n",
       "      <th>2565</th>\n",
       "      <td>Kiralık Daire</td>\n",
       "      <td>furnıshed apartment ın kavaklıdere</td>\n",
       "      <td>3 + 1</td>\n",
       "      <td>150 m2</td>\n",
       "      <td>40 Yaşında</td>\n",
       "      <td>Ara Kat</td>\n",
       "      <td>27.000 TL</td>\n",
       "      <td>Çankaya, Barbaros Mahallesi</td>\n",
       "    </tr>\n",
       "    <tr>\n",
       "      <th>2566</th>\n",
       "      <td>Kiralık Daire</td>\n",
       "      <td>unfurnıshed 5+1+terrace dublex apartment ın yı...</td>\n",
       "      <td>5 + 1</td>\n",
       "      <td>370 m2</td>\n",
       "      <td>17 Yaşında</td>\n",
       "      <td>3. Kat</td>\n",
       "      <td>18.000 TL</td>\n",
       "      <td>Çankaya, Yıldızevler Mahallesi</td>\n",
       "    </tr>\n",
       "    <tr>\n",
       "      <th>2567</th>\n",
       "      <td>Kiralık Daire</td>\n",
       "      <td>furnıshed 2+1+storage apartment ın compound at...</td>\n",
       "      <td>2 + 1</td>\n",
       "      <td>140 m2</td>\n",
       "      <td>35 Yaşında</td>\n",
       "      <td>4. Kat</td>\n",
       "      <td>18.000 TL</td>\n",
       "      <td>Çankaya, Çankaya Mahallesi</td>\n",
       "    </tr>\n",
       "  </tbody>\n",
       "</table>\n",
       "<p>2568 rows × 8 columns</p>\n",
       "</div>"
      ],
      "text/plain": [
       "            Kiralik                                              Tanim    Oda  \\\n",
       "0     Kiralık Daire                                                     3 + 1   \n",
       "1     Kiralık Daire  öğrencilere sokulluda 5+2 yapılı möbleli kiral...  4 + 2   \n",
       "2     Kiralık Daire  panora yakını, muhteşem manzaralı,4+2 dubleks,...  4 + 2   \n",
       "3     Kiralık Daire  panora yakını, muhteşem 4+2, mobilyalı.75 m2…t...  4 + 2   \n",
       "4     Kiralık Daire  vesta...bölgede marka olmuş ultralüx sitede-gü...  4 + 2   \n",
       "...             ...                                                ...    ...   \n",
       "2563  Kiralık Daire             furnıshed flat ın cankaya wıth terrace  3 + 1   \n",
       "2564   Kiralık Bina  mavi emlak'tan gop hülya sokak'ta komple kiral...  7 + 1   \n",
       "2565  Kiralık Daire                 furnıshed apartment ın kavaklıdere  3 + 1   \n",
       "2566  Kiralık Daire  unfurnıshed 5+1+terrace dublex apartment ın yı...  5 + 1   \n",
       "2567  Kiralık Daire  furnıshed 2+1+storage apartment ın compound at...  2 + 1   \n",
       "\n",
       "        Alan         Yas         Kat      Fiyat  \\\n",
       "0     135 m2  28 Yaşında      1. Kat  13.000 TL   \n",
       "1     300 m2  25 Yaşında  Teras Katı  12.500 TL   \n",
       "2     220 m2  13 Yaşında      3. Kat   8.000 TL   \n",
       "3     220 m2  13 Yaşında      3. Kat  10.000 TL   \n",
       "4     350 m2   4 Yaşında     15. Kat  15.500 TL   \n",
       "...      ...         ...         ...        ...   \n",
       "2563  120 m2  40 Yaşında  Teras Katı  18.000 TL   \n",
       "2564  750 m2  25 Yaşında              88.000 TL   \n",
       "2565  150 m2  40 Yaşında     Ara Kat  27.000 TL   \n",
       "2566  370 m2  17 Yaşında      3. Kat  18.000 TL   \n",
       "2567  140 m2  35 Yaşında      4. Kat  18.000 TL   \n",
       "\n",
       "                                 Konum  \n",
       "0      Çankaya, Bahçelievler Mahallesi  \n",
       "1           Çankaya, Harbiye Mahallesi  \n",
       "2       Çankaya, Mürsel Uluç Mahallesi  \n",
       "3       Çankaya, Mürsel Uluç Mahallesi  \n",
       "4       Çankaya, Bademlidere Mahallesi  \n",
       "...                                ...  \n",
       "2563        Çankaya, Çankaya Mahallesi  \n",
       "2564  Çankaya, Gaziosmanpaşa Mahallesi  \n",
       "2565       Çankaya, Barbaros Mahallesi  \n",
       "2566    Çankaya, Yıldızevler Mahallesi  \n",
       "2567        Çankaya, Çankaya Mahallesi  \n",
       "\n",
       "[2568 rows x 8 columns]"
      ]
     },
     "execution_count": 60,
     "metadata": {},
     "output_type": "execute_result"
    }
   ],
   "source": [
    "df"
   ]
  },
  {
   "cell_type": "code",
   "execution_count": 61,
   "id": "6b5ec816",
   "metadata": {},
   "outputs": [],
   "source": [
    "df.to_csv(city+'.csv', encoding='utf-8-sig', index=False)"
   ]
  },
  {
   "cell_type": "code",
   "execution_count": 6,
   "id": "4478d9b9",
   "metadata": {},
   "outputs": [],
   "source": [
    "df = pd.read_csv(city+'.csv', encoding='utf-8-sig')"
   ]
  },
  {
   "cell_type": "markdown",
   "id": "0e38a942",
   "metadata": {},
   "source": [
    "## EDA"
   ]
  },
  {
   "cell_type": "code",
   "execution_count": 7,
   "id": "8cbc15a6",
   "metadata": {},
   "outputs": [
    {
     "data": {
      "text/plain": [
       "Kiralık Villa          131\n",
       "Kiralık Bina            10\n",
       "Kiralık Müstakil Ev      2\n",
       "KiralÄ±k Villa           1\n",
       "Name: Kiralik, dtype: int64"
      ]
     },
     "execution_count": 7,
     "metadata": {},
     "output_type": "execute_result"
    }
   ],
   "source": [
    "df[df.Kat.isnull()].Kiralik.value_counts()"
   ]
  },
  {
   "cell_type": "code",
   "execution_count": 8,
   "id": "a15c0651",
   "metadata": {},
   "outputs": [
    {
     "data": {
      "text/html": [
       "<div>\n",
       "<style scoped>\n",
       "    .dataframe tbody tr th:only-of-type {\n",
       "        vertical-align: middle;\n",
       "    }\n",
       "\n",
       "    .dataframe tbody tr th {\n",
       "        vertical-align: top;\n",
       "    }\n",
       "\n",
       "    .dataframe thead th {\n",
       "        text-align: right;\n",
       "    }\n",
       "</style>\n",
       "<table border=\"1\" class=\"dataframe\">\n",
       "  <thead>\n",
       "    <tr style=\"text-align: right;\">\n",
       "      <th></th>\n",
       "      <th>Kiralik</th>\n",
       "      <th>Tanim</th>\n",
       "      <th>Oda</th>\n",
       "      <th>Alan</th>\n",
       "      <th>Yas</th>\n",
       "      <th>Kat</th>\n",
       "      <th>Fiyat</th>\n",
       "      <th>Konum</th>\n",
       "    </tr>\n",
       "  </thead>\n",
       "  <tbody>\n",
       "    <tr>\n",
       "      <th>0</th>\n",
       "      <td>Kiralık Daire</td>\n",
       "      <td>NaN</td>\n",
       "      <td>3 + 1</td>\n",
       "      <td>135 m2</td>\n",
       "      <td>28 Yaşında</td>\n",
       "      <td>1. Kat</td>\n",
       "      <td>13.000 TL</td>\n",
       "      <td>Çankaya, Bahçelievler Mahallesi</td>\n",
       "    </tr>\n",
       "    <tr>\n",
       "      <th>1</th>\n",
       "      <td>Kiralık Daire</td>\n",
       "      <td>özel bahçeli özel garajlı kedi köpek beslemeye...</td>\n",
       "      <td>3 + 1</td>\n",
       "      <td>135 m2</td>\n",
       "      <td>7 Yaşında</td>\n",
       "      <td>Bahçe Katı</td>\n",
       "      <td>5.000 TL</td>\n",
       "      <td>Çankaya, Bağcılar Mahallesi</td>\n",
       "    </tr>\n",
       "    <tr>\n",
       "      <th>2</th>\n",
       "      <td>Kiralık Daire</td>\n",
       "      <td>öğrencilere sokulluda 5+2 yapılı möbleli kiral...</td>\n",
       "      <td>4 + 2</td>\n",
       "      <td>300 m2</td>\n",
       "      <td>25 Yaşında</td>\n",
       "      <td>Teras Katı</td>\n",
       "      <td>12.500 TL</td>\n",
       "      <td>Çankaya, Harbiye Mahallesi</td>\n",
       "    </tr>\n",
       "    <tr>\n",
       "      <th>3</th>\n",
       "      <td>Kiralık Daire</td>\n",
       "      <td>panora yakını, muhteşem manzaralı,4+2 dubleks,...</td>\n",
       "      <td>4 + 2</td>\n",
       "      <td>220 m2</td>\n",
       "      <td>13 Yaşında</td>\n",
       "      <td>3. Kat</td>\n",
       "      <td>8.000 TL</td>\n",
       "      <td>Çankaya, Mürsel Uluç Mahallesi</td>\n",
       "    </tr>\n",
       "    <tr>\n",
       "      <th>4</th>\n",
       "      <td>Kiralık Daire</td>\n",
       "      <td>panora yakını, muhteşem 4+2, mobilyalı.75 m2…t...</td>\n",
       "      <td>4 + 2</td>\n",
       "      <td>220 m2</td>\n",
       "      <td>13 Yaşında</td>\n",
       "      <td>3. Kat</td>\n",
       "      <td>10.000 TL</td>\n",
       "      <td>Çankaya, Mürsel Uluç Mahallesi</td>\n",
       "    </tr>\n",
       "    <tr>\n",
       "      <th>5</th>\n",
       "      <td>Kiralık Daire</td>\n",
       "      <td>vesta...bölgede marka olmuş ultralüx sitede-gü...</td>\n",
       "      <td>4 + 2</td>\n",
       "      <td>350 m2</td>\n",
       "      <td>4 Yaşında</td>\n",
       "      <td>15. Kat</td>\n",
       "      <td>15.500 TL</td>\n",
       "      <td>Çankaya, Bademlidere Mahallesi</td>\n",
       "    </tr>\n",
       "    <tr>\n",
       "      <th>6</th>\n",
       "      <td>Kiralık Daire</td>\n",
       "      <td>ets'den cevizlidere cad yakını bakımlı 4+1 dub...</td>\n",
       "      <td>4 + 1</td>\n",
       "      <td>170 m2</td>\n",
       "      <td>5 Yaşında</td>\n",
       "      <td>3. Kat</td>\n",
       "      <td>6.600 TL</td>\n",
       "      <td>Çankaya, Huzur Mahallesi</td>\n",
       "    </tr>\n",
       "    <tr>\n",
       "      <th>7</th>\n",
       "      <td>Kiralık Daire</td>\n",
       "      <td>çayyolu merkezde arcadium metro yakını 3+1</td>\n",
       "      <td>3 + 1</td>\n",
       "      <td>130 m2</td>\n",
       "      <td>25 Yaşında</td>\n",
       "      <td>4. Kat</td>\n",
       "      <td>5.800 TL</td>\n",
       "      <td>Çankaya, Koru Mahallesi</td>\n",
       "    </tr>\n",
       "    <tr>\n",
       "      <th>8</th>\n",
       "      <td>Kiralık Daire</td>\n",
       "      <td>portakal çiçeği vadisi sitesinde 4+1 yapılı mu...</td>\n",
       "      <td>4 + 1</td>\n",
       "      <td>300 m2</td>\n",
       "      <td>15 Yaşında</td>\n",
       "      <td>14. Kat</td>\n",
       "      <td>25.000 TL</td>\n",
       "      <td>Çankaya, Aziziye Mahallesi</td>\n",
       "    </tr>\n",
       "    <tr>\n",
       "      <th>9</th>\n",
       "      <td>Kiralık Daire</td>\n",
       "      <td>vıp desıgned fully furnıshed loft resıdence ın...</td>\n",
       "      <td>6 + 1</td>\n",
       "      <td>375 m2</td>\n",
       "      <td>5 Yaşında</td>\n",
       "      <td>Ara Kat</td>\n",
       "      <td>45.000 TL</td>\n",
       "      <td>Çankaya, Kızılırmak Mahallesi</td>\n",
       "    </tr>\n",
       "  </tbody>\n",
       "</table>\n",
       "</div>"
      ],
      "text/plain": [
       "         Kiralik                                              Tanim    Oda  \\\n",
       "0  Kiralık Daire                                                NaN  3 + 1   \n",
       "1  Kiralık Daire  özel bahçeli özel garajlı kedi köpek beslemeye...  3 + 1   \n",
       "2  Kiralık Daire  öğrencilere sokulluda 5+2 yapılı möbleli kiral...  4 + 2   \n",
       "3  Kiralık Daire  panora yakını, muhteşem manzaralı,4+2 dubleks,...  4 + 2   \n",
       "4  Kiralık Daire  panora yakını, muhteşem 4+2, mobilyalı.75 m2…t...  4 + 2   \n",
       "5  Kiralık Daire  vesta...bölgede marka olmuş ultralüx sitede-gü...  4 + 2   \n",
       "6  Kiralık Daire  ets'den cevizlidere cad yakını bakımlı 4+1 dub...  4 + 1   \n",
       "7  Kiralık Daire         çayyolu merkezde arcadium metro yakını 3+1  3 + 1   \n",
       "8  Kiralık Daire  portakal çiçeği vadisi sitesinde 4+1 yapılı mu...  4 + 1   \n",
       "9  Kiralık Daire  vıp desıgned fully furnıshed loft resıdence ın...  6 + 1   \n",
       "\n",
       "     Alan         Yas         Kat      Fiyat                            Konum  \n",
       "0  135 m2  28 Yaşında      1. Kat  13.000 TL  Çankaya, Bahçelievler Mahallesi  \n",
       "1  135 m2   7 Yaşında  Bahçe Katı   5.000 TL      Çankaya, Bağcılar Mahallesi  \n",
       "2  300 m2  25 Yaşında  Teras Katı  12.500 TL       Çankaya, Harbiye Mahallesi  \n",
       "3  220 m2  13 Yaşında      3. Kat   8.000 TL   Çankaya, Mürsel Uluç Mahallesi  \n",
       "4  220 m2  13 Yaşında      3. Kat  10.000 TL   Çankaya, Mürsel Uluç Mahallesi  \n",
       "5  350 m2   4 Yaşında     15. Kat  15.500 TL   Çankaya, Bademlidere Mahallesi  \n",
       "6  170 m2   5 Yaşında      3. Kat   6.600 TL         Çankaya, Huzur Mahallesi  \n",
       "7  130 m2  25 Yaşında      4. Kat   5.800 TL          Çankaya, Koru Mahallesi  \n",
       "8  300 m2  15 Yaşında     14. Kat  25.000 TL       Çankaya, Aziziye Mahallesi  \n",
       "9  375 m2   5 Yaşında     Ara Kat  45.000 TL    Çankaya, Kızılırmak Mahallesi  "
      ]
     },
     "execution_count": 8,
     "metadata": {},
     "output_type": "execute_result"
    }
   ],
   "source": [
    "df.head(10)"
   ]
  },
  {
   "cell_type": "code",
   "execution_count": 9,
   "id": "748b5722",
   "metadata": {},
   "outputs": [
    {
     "name": "stdout",
     "output_type": "stream",
     "text": [
      "<class 'pandas.core.frame.DataFrame'>\n",
      "RangeIndex: 2568 entries, 0 to 2567\n",
      "Data columns (total 8 columns):\n",
      " #   Column   Non-Null Count  Dtype \n",
      "---  ------   --------------  ----- \n",
      " 0   Kiralik  2568 non-null   object\n",
      " 1   Tanim    2567 non-null   object\n",
      " 2   Oda      2568 non-null   object\n",
      " 3   Alan     2568 non-null   object\n",
      " 4   Yas      2568 non-null   object\n",
      " 5   Kat      2424 non-null   object\n",
      " 6   Fiyat    2568 non-null   object\n",
      " 7   Konum    2568 non-null   object\n",
      "dtypes: object(8)\n",
      "memory usage: 160.6+ KB\n"
     ]
    }
   ],
   "source": [
    "df.info()"
   ]
  },
  {
   "cell_type": "code",
   "execution_count": 10,
   "id": "267c1464",
   "metadata": {},
   "outputs": [
    {
     "data": {
      "text/plain": [
       "Kiralik    0.000000\n",
       "Tanim      0.000389\n",
       "Oda        0.000000\n",
       "Alan       0.000000\n",
       "Yas        0.000000\n",
       "Kat        0.056075\n",
       "Fiyat      0.000000\n",
       "Konum      0.000000\n",
       "dtype: float64"
      ]
     },
     "execution_count": 10,
     "metadata": {},
     "output_type": "execute_result"
    }
   ],
   "source": [
    "df.isnull().mean() # aslinda bos var ancak '' seklinde"
   ]
  },
  {
   "cell_type": "code",
   "execution_count": 11,
   "id": "7df60767",
   "metadata": {},
   "outputs": [
    {
     "data": {
      "text/plain": [
       "Kiralik    0.0\n",
       "Tanim      0.0\n",
       "Oda        0.0\n",
       "Alan       0.0\n",
       "Yas        0.0\n",
       "Kat        0.0\n",
       "Fiyat      0.0\n",
       "Konum      0.0\n",
       "dtype: float64"
      ]
     },
     "execution_count": 11,
     "metadata": {},
     "output_type": "execute_result"
    }
   ],
   "source": [
    "pd.DataFrame(df=='').mean() # Kat verisinin %33u bos"
   ]
  },
  {
   "cell_type": "markdown",
   "id": "67ade590",
   "metadata": {},
   "source": [
    "### Kiralik"
   ]
  },
  {
   "cell_type": "code",
   "execution_count": 12,
   "id": "877fcbba",
   "metadata": {},
   "outputs": [
    {
     "data": {
      "text/plain": [
       "Kiralık Daire          2287\n",
       "Kiralık Villa           146\n",
       "Kiralık Residence        95\n",
       "KiralÄ±k Daire           23\n",
       "Kiralık Bina             10\n",
       "Kiralık Loft Daire        3\n",
       "Kiralık Müstakil Ev       2\n",
       "KiralÄ±k Villa            1\n",
       "Kiralık Prefabrik         1\n",
       "Name: Kiralik, dtype: int64"
      ]
     },
     "execution_count": 12,
     "metadata": {},
     "output_type": "execute_result"
    }
   ],
   "source": [
    "df.Kiralik.value_counts()"
   ]
  },
  {
   "cell_type": "markdown",
   "id": "985e5125",
   "metadata": {},
   "source": [
    "### Oda"
   ]
  },
  {
   "cell_type": "code",
   "execution_count": 13,
   "id": "5845e28b",
   "metadata": {},
   "outputs": [
    {
     "data": {
      "text/plain": [
       "3 + 1      946\n",
       "4 + 1      553\n",
       "2 + 1      452\n",
       "1 + 1      243\n",
       "5 + 1      120\n",
       "5 + 2       51\n",
       "6 + 1       49\n",
       "4 + 2       34\n",
       "6 + 2       24\n",
       "7 + 1       24\n",
       "Stüdyo      18\n",
       "7 + 2       13\n",
       "3 + 2       13\n",
       "8 + 1        3\n",
       "2 + 2        3\n",
       "5 + 3        2\n",
       "7 + 3        2\n",
       "4 + 3        1\n",
       "1 + 3        1\n",
       "8 + 3        1\n",
       "6 + 25       1\n",
       "11 + 2       1\n",
       "9 + 1        1\n",
       "11 + 11      1\n",
       "15 + 3       1\n",
       "4 + 4        1\n",
       "9 + 3        1\n",
       "6 + 6        1\n",
       "10 + 3       1\n",
       "17 + 1       1\n",
       "3 + 0        1\n",
       "20 + 1       1\n",
       "30 + 5       1\n",
       "6 + 3        1\n",
       "9 + 2        1\n",
       "Name: Oda, dtype: int64"
      ]
     },
     "execution_count": 13,
     "metadata": {},
     "output_type": "execute_result"
    }
   ],
   "source": [
    "df.Oda.value_counts()"
   ]
  },
  {
   "cell_type": "code",
   "execution_count": 14,
   "id": "96faaff0",
   "metadata": {},
   "outputs": [],
   "source": [
    "# delete outliers\n",
    "a=['6 + 25', '11 + 2', '11 + 11', '15 + 3', '10 + 3', '17 + 1', '20 + 1', '30 + 5']\n",
    "for i in a:\n",
    "    df.drop(df[df.Oda==i].index, inplace=True) "
   ]
  },
  {
   "cell_type": "code",
   "execution_count": 15,
   "id": "03a22dd6",
   "metadata": {
    "scrolled": true
   },
   "outputs": [
    {
     "data": {
      "text/plain": [
       "249                 \n",
       "476                 \n",
       "516                 \n",
       "529              1+0\n",
       "593                 \n",
       "793           3121+0\n",
       "1376    1+0251521552\n",
       "1398          3121+0\n",
       "1410             1+0\n",
       "1815                \n",
       "1840               1\n",
       "2042             1+0\n",
       "2223                \n",
       "2293             1+0\n",
       "2310             1+0\n",
       "2456                \n",
       "2474             1+0\n",
       "2479             1+0\n",
       "Name: Tanim, dtype: object"
      ]
     },
     "execution_count": 15,
     "metadata": {},
     "output_type": "execute_result"
    }
   ],
   "source": [
    "df[df.Oda=='Stüdyo'].Tanim.replace({'[^\\b\\d+\\b]':''}, regex=True) # studyolar genelde 1 + 0"
   ]
  },
  {
   "cell_type": "code",
   "execution_count": 16,
   "id": "05f7df8d",
   "metadata": {},
   "outputs": [],
   "source": [
    "df.Oda.replace({'Stüdyo':'1 + 0'}, regex=True, inplace=True)"
   ]
  },
  {
   "cell_type": "code",
   "execution_count": 17,
   "id": "1d68ee2b",
   "metadata": {},
   "outputs": [],
   "source": [
    "# Oda syisini sayiya ceviricez, kat ondalik, salon birlik basamaginda olacak\n",
    "df.Oda.replace({'[^\\b\\d\\b]':''}, regex=True, inplace=True)\n",
    "df['Oda'] = df.Oda.astype('float64')"
   ]
  },
  {
   "cell_type": "markdown",
   "id": "e9cccfef",
   "metadata": {},
   "source": [
    "### Alan"
   ]
  },
  {
   "cell_type": "code",
   "execution_count": 18,
   "id": "664ebcd5",
   "metadata": {},
   "outputs": [],
   "source": [
    "df['Alan'] = df['Alan'].replace({' m2':''},regex=True).astype('float64')"
   ]
  },
  {
   "cell_type": "code",
   "execution_count": 19,
   "id": "43dc9324",
   "metadata": {
    "scrolled": true
   },
   "outputs": [
    {
     "data": {
      "text/plain": [
       "0       135.0\n",
       "1       135.0\n",
       "2       300.0\n",
       "3       220.0\n",
       "4       220.0\n",
       "        ...  \n",
       "2563    200.0\n",
       "2564    120.0\n",
       "2565    750.0\n",
       "2566    150.0\n",
       "2567    370.0\n",
       "Name: Alan, Length: 2560, dtype: float64"
      ]
     },
     "execution_count": 19,
     "metadata": {},
     "output_type": "execute_result"
    }
   ],
   "source": [
    "df.Alan"
   ]
  },
  {
   "cell_type": "markdown",
   "id": "2f2cad33",
   "metadata": {},
   "source": [
    "### Yas"
   ]
  },
  {
   "cell_type": "code",
   "execution_count": 20,
   "id": "fe798b1a",
   "metadata": {
    "scrolled": true
   },
   "outputs": [
    {
     "data": {
      "text/plain": [
       "Sıfır Bina      213\n",
       "25 Yaşında      208\n",
       "30 Yaşında      200\n",
       "20 Yaşında      190\n",
       "15 Yaşında      149\n",
       "               ... \n",
       "17 YaÅŸÄ±nda      1\n",
       "40 YaÅŸÄ±nda      1\n",
       "25 YaÅŸÄ±nda      1\n",
       "43 YaÅŸÄ±nda      1\n",
       "53 Yaşında        1\n",
       "Name: Yas, Length: 67, dtype: int64"
      ]
     },
     "execution_count": 20,
     "metadata": {},
     "output_type": "execute_result"
    }
   ],
   "source": [
    "df.Yas.value_counts()\n",
    "# cok yasli binalar gercek, tas evler vb."
   ]
  },
  {
   "cell_type": "code",
   "execution_count": 21,
   "id": "88f4fef7",
   "metadata": {},
   "outputs": [],
   "source": [
    "df['Yas'].replace({'[^\\b\\d\\b]':''}, regex=True, inplace=True) # Sadece sayilar alinir"
   ]
  },
  {
   "cell_type": "code",
   "execution_count": 22,
   "id": "1b5d30e5",
   "metadata": {},
   "outputs": [],
   "source": [
    "df.loc[df.Yas=='', 'Yas']= '0' # Sifir yasinda yazanlar yok oldugundan simdi atadik"
   ]
  },
  {
   "cell_type": "code",
   "execution_count": 23,
   "id": "45d7c78a",
   "metadata": {},
   "outputs": [],
   "source": [
    "df['Yas'] = df['Yas'].astype('float64')"
   ]
  },
  {
   "cell_type": "code",
   "execution_count": 24,
   "id": "737fd193",
   "metadata": {
    "scrolled": true
   },
   "outputs": [
    {
     "data": {
      "text/plain": [
       "0.0      214\n",
       "25.0     209\n",
       "30.0     203\n",
       "20.0     192\n",
       "15.0     153\n",
       "10.0     148\n",
       "35.0     140\n",
       "5.0      126\n",
       "40.0     107\n",
       "4.0      103\n",
       "1.0       88\n",
       "2.0       64\n",
       "3.0       62\n",
       "12.0      52\n",
       "11.0      47\n",
       "45.0      45\n",
       "16.0      45\n",
       "8.0       44\n",
       "7.0       42\n",
       "13.0      39\n",
       "18.0      37\n",
       "50.0      34\n",
       "22.0      32\n",
       "26.0      30\n",
       "6.0       27\n",
       "28.0      27\n",
       "27.0      25\n",
       "21.0      23\n",
       "17.0      23\n",
       "9.0       22\n",
       "31.0      21\n",
       "36.0      19\n",
       "14.0      17\n",
       "23.0      16\n",
       "24.0      16\n",
       "32.0      13\n",
       "19.0       9\n",
       "29.0       8\n",
       "33.0       7\n",
       "38.0       6\n",
       "55.0       6\n",
       "42.0       4\n",
       "39.0       3\n",
       "37.0       2\n",
       "47.0       2\n",
       "43.0       1\n",
       "34.0       1\n",
       "256.0      1\n",
       "48.0       1\n",
       "59.0       1\n",
       "60.0       1\n",
       "41.0       1\n",
       "53.0       1\n",
       "Name: Yas, dtype: int64"
      ]
     },
     "execution_count": 24,
     "metadata": {},
     "output_type": "execute_result"
    }
   ],
   "source": [
    "df.Yas.value_counts()"
   ]
  },
  {
   "cell_type": "markdown",
   "id": "92baf335",
   "metadata": {},
   "source": [
    "### Kat"
   ]
  },
  {
   "cell_type": "code",
   "execution_count": 25,
   "id": "7efff5b4",
   "metadata": {},
   "outputs": [],
   "source": [
    "df.Kat.fillna('0. Kat', inplace=True) # Nan larin cogu villa"
   ]
  },
  {
   "cell_type": "code",
   "execution_count": 26,
   "id": "e300ceca",
   "metadata": {},
   "outputs": [
    {
     "data": {
      "text/plain": [
       "2. Kat          322\n",
       "3. Kat          289\n",
       "1. Kat          288\n",
       "Ara Kat         218\n",
       "4. Kat          155\n",
       "Yüksek Giriş    154\n",
       "0. Kat          137\n",
       "21 ve üzeri     108\n",
       "Bahçe Katı       93\n",
       "En Üst Kat       72\n",
       "5. Kat           71\n",
       "Giriş Katı       70\n",
       "Kot 1            67\n",
       "7. Kat           58\n",
       "8. Kat           55\n",
       "6. Kat           55\n",
       "9. Kat           50\n",
       "12. Kat          31\n",
       "10. Kat          31\n",
       "11. Kat          28\n",
       "Kot 2            23\n",
       "13. Kat          22\n",
       "14. Kat          20\n",
       "Teras Katı       18\n",
       "17. Kat          17\n",
       "20. Kat          16\n",
       "Çatı Katı        13\n",
       "16. Kat          12\n",
       "Kot 3            12\n",
       "Zemin            11\n",
       "19. Kat          10\n",
       "15. Kat          10\n",
       "18. Kat           9\n",
       "Villa Katı        8\n",
       "Bodrum            3\n",
       "Yarı Bodrum       2\n",
       "21 ve Ã¼zeri      1\n",
       "Asma Kat          1\n",
       "Name: Kat, dtype: int64"
      ]
     },
     "execution_count": 26,
     "metadata": {},
     "output_type": "execute_result"
    }
   ],
   "source": [
    "df.Kat.value_counts(dropna=False)"
   ]
  },
  {
   "cell_type": "code",
   "execution_count": 27,
   "id": "14f5c0ec",
   "metadata": {},
   "outputs": [],
   "source": [
    "#df['Kat'].replace({'Zemin': '0. Kat', 'Kot 2':'2. Kat', 'Kot 1':'1. Kat', 'Kot 3':'3. Kat', \n",
    "#                   'Bodrum':'0. Kat', 'Yarı Bodrum':'0. Kat', 'Bahçe Katı':'0. Kat',\n",
    "#                   'Villa Katı': '3. Kat', 'Ara Kat':'7. Kat', 'Yüksek Giriş':'0. Kat',\n",
    "#                   'Giriş Katı': '0. Kat', 'Çatı Katı': '15. Kat', 'Teras Katı':'15. Kat',\n",
    "#                   '21 ve üzeri' :'21. Kat', 'En Üst Kat':'15. Kat'}, inplace=True)"
   ]
  },
  {
   "cell_type": "code",
   "execution_count": 28,
   "id": "be29c6f6",
   "metadata": {},
   "outputs": [],
   "source": [
    "#df['Kat_int'] = df['Kat'].replace({'[^\\b\\d\\b]':''}, regex=True) # kacinci kat oldugunu veren kod"
   ]
  },
  {
   "cell_type": "code",
   "execution_count": 29,
   "id": "ea6c67ca",
   "metadata": {},
   "outputs": [],
   "source": [
    "#df['Kat_int'] = df['Kat_int'].astype(int)"
   ]
  },
  {
   "cell_type": "markdown",
   "id": "5ca33add",
   "metadata": {},
   "source": [
    "### Fiyat"
   ]
  },
  {
   "cell_type": "code",
   "execution_count": 30,
   "id": "bc3dad0c",
   "metadata": {},
   "outputs": [],
   "source": [
    "df['Fiyat'] = df['Fiyat'].replace({'[^\\b\\d+\\b]':''}, regex=True).astype('float64')"
   ]
  },
  {
   "cell_type": "code",
   "execution_count": 31,
   "id": "b5dd74fa",
   "metadata": {
    "scrolled": true
   },
   "outputs": [
    {
     "data": {
      "text/plain": [
       "6000.0       105\n",
       "5000.0        95\n",
       "7500.0        95\n",
       "5500.0        90\n",
       "10000.0       79\n",
       "            ... \n",
       "8850.0         1\n",
       "1500.0         1\n",
       "2350000.0      1\n",
       "8400.0         1\n",
       "88000.0        1\n",
       "Name: Fiyat, Length: 271, dtype: int64"
      ]
     },
     "execution_count": 31,
     "metadata": {},
     "output_type": "execute_result"
    }
   ],
   "source": [
    "df.Fiyat.value_counts()"
   ]
  },
  {
   "cell_type": "markdown",
   "id": "e26f2299",
   "metadata": {},
   "source": [
    "### Konum"
   ]
  },
  {
   "cell_type": "code",
   "execution_count": 32,
   "id": "e425451f",
   "metadata": {},
   "outputs": [
    {
     "data": {
      "text/plain": [
       "Çankaya, Oran Mahallesi             138\n",
       "Çankaya, Alacaatlı Mahallesi        129\n",
       "Çankaya, Büyükesat Mahallesi        118\n",
       "Çankaya, İlkbahar Mahallesi          91\n",
       "Çankaya, Aziziye Mahallesi           83\n",
       "                                   ... \n",
       "Ã‡ankaya, KÃ¼Ã§Ã¼kesat Mahallesi      1\n",
       "Ã‡ankaya, Ä°lkbahar Mahallesi         1\n",
       "Ã‡ankaya, Ã–veÃ§ler Mahallesi         1\n",
       "Ã‡ankaya, Cebeci Mahallesi            1\n",
       "Ã‡ankaya, Mutlukent Mahallesi         1\n",
       "Name: Konum, Length: 131, dtype: int64"
      ]
     },
     "execution_count": 32,
     "metadata": {},
     "output_type": "execute_result"
    }
   ],
   "source": [
    "df.Konum.value_counts()"
   ]
  },
  {
   "cell_type": "code",
   "execution_count": 33,
   "id": "5f789c85",
   "metadata": {},
   "outputs": [],
   "source": [
    "df['Konum'] = df.Konum.str.split(',').str[1]"
   ]
  },
  {
   "cell_type": "markdown",
   "id": "05fda674",
   "metadata": {},
   "source": [
    "### Outliers"
   ]
  },
  {
   "cell_type": "code",
   "execution_count": 34,
   "id": "63cf40b6",
   "metadata": {},
   "outputs": [],
   "source": [
    "outliars0 = df.quantile(.9)\n",
    "outliars1 = df.quantile(.1)\n",
    "\n",
    "cols = ['Fiyat', 'Oda', 'Alan', 'Yas']\n",
    "for i in cols:\n",
    "  df = df[(df[i]<outliars0[i]) & (df[i]>outliars1[i])]"
   ]
  },
  {
   "cell_type": "markdown",
   "id": "6ba8e959",
   "metadata": {},
   "source": [
    "## Regression"
   ]
  },
  {
   "cell_type": "code",
   "execution_count": 35,
   "id": "abf2026b",
   "metadata": {},
   "outputs": [
    {
     "data": {
      "text/html": [
       "<div>\n",
       "<style scoped>\n",
       "    .dataframe tbody tr th:only-of-type {\n",
       "        vertical-align: middle;\n",
       "    }\n",
       "\n",
       "    .dataframe tbody tr th {\n",
       "        vertical-align: top;\n",
       "    }\n",
       "\n",
       "    .dataframe thead th {\n",
       "        text-align: right;\n",
       "    }\n",
       "</style>\n",
       "<table border=\"1\" class=\"dataframe\">\n",
       "  <thead>\n",
       "    <tr style=\"text-align: right;\">\n",
       "      <th></th>\n",
       "      <th>Kiralik</th>\n",
       "      <th>Tanim</th>\n",
       "      <th>Oda</th>\n",
       "      <th>Alan</th>\n",
       "      <th>Yas</th>\n",
       "      <th>Kat</th>\n",
       "      <th>Fiyat</th>\n",
       "      <th>Konum</th>\n",
       "    </tr>\n",
       "  </thead>\n",
       "  <tbody>\n",
       "    <tr>\n",
       "      <th>0</th>\n",
       "      <td>Kiralık Daire</td>\n",
       "      <td>NaN</td>\n",
       "      <td>31.0</td>\n",
       "      <td>135.0</td>\n",
       "      <td>28.0</td>\n",
       "      <td>1. Kat</td>\n",
       "      <td>13000.0</td>\n",
       "      <td>Bahçelievler Mahallesi</td>\n",
       "    </tr>\n",
       "    <tr>\n",
       "      <th>3</th>\n",
       "      <td>Kiralık Daire</td>\n",
       "      <td>panora yakını, muhteşem manzaralı,4+2 dubleks,...</td>\n",
       "      <td>42.0</td>\n",
       "      <td>220.0</td>\n",
       "      <td>13.0</td>\n",
       "      <td>3. Kat</td>\n",
       "      <td>8000.0</td>\n",
       "      <td>Mürsel Uluç Mahallesi</td>\n",
       "    </tr>\n",
       "    <tr>\n",
       "      <th>4</th>\n",
       "      <td>Kiralık Daire</td>\n",
       "      <td>panora yakını, muhteşem 4+2, mobilyalı.75 m2…t...</td>\n",
       "      <td>42.0</td>\n",
       "      <td>220.0</td>\n",
       "      <td>13.0</td>\n",
       "      <td>3. Kat</td>\n",
       "      <td>10000.0</td>\n",
       "      <td>Mürsel Uluç Mahallesi</td>\n",
       "    </tr>\n",
       "    <tr>\n",
       "      <th>6</th>\n",
       "      <td>Kiralık Daire</td>\n",
       "      <td>ets'den cevizlidere cad yakını bakımlı 4+1 dub...</td>\n",
       "      <td>41.0</td>\n",
       "      <td>170.0</td>\n",
       "      <td>5.0</td>\n",
       "      <td>3. Kat</td>\n",
       "      <td>6600.0</td>\n",
       "      <td>Huzur Mahallesi</td>\n",
       "    </tr>\n",
       "    <tr>\n",
       "      <th>7</th>\n",
       "      <td>Kiralık Daire</td>\n",
       "      <td>çayyolu merkezde arcadium metro yakını 3+1</td>\n",
       "      <td>31.0</td>\n",
       "      <td>130.0</td>\n",
       "      <td>25.0</td>\n",
       "      <td>4. Kat</td>\n",
       "      <td>5800.0</td>\n",
       "      <td>Koru Mahallesi</td>\n",
       "    </tr>\n",
       "  </tbody>\n",
       "</table>\n",
       "</div>"
      ],
      "text/plain": [
       "         Kiralik                                              Tanim   Oda  \\\n",
       "0  Kiralık Daire                                                NaN  31.0   \n",
       "3  Kiralık Daire  panora yakını, muhteşem manzaralı,4+2 dubleks,...  42.0   \n",
       "4  Kiralık Daire  panora yakını, muhteşem 4+2, mobilyalı.75 m2…t...  42.0   \n",
       "6  Kiralık Daire  ets'den cevizlidere cad yakını bakımlı 4+1 dub...  41.0   \n",
       "7  Kiralık Daire         çayyolu merkezde arcadium metro yakını 3+1  31.0   \n",
       "\n",
       "    Alan   Yas     Kat    Fiyat                    Konum  \n",
       "0  135.0  28.0  1. Kat  13000.0   Bahçelievler Mahallesi  \n",
       "3  220.0  13.0  3. Kat   8000.0    Mürsel Uluç Mahallesi  \n",
       "4  220.0  13.0  3. Kat  10000.0    Mürsel Uluç Mahallesi  \n",
       "6  170.0   5.0  3. Kat   6600.0          Huzur Mahallesi  \n",
       "7  130.0  25.0  4. Kat   5800.0           Koru Mahallesi  "
      ]
     },
     "execution_count": 35,
     "metadata": {},
     "output_type": "execute_result"
    }
   ],
   "source": [
    "df.head()"
   ]
  },
  {
   "cell_type": "code",
   "execution_count": 36,
   "id": "e53b1460",
   "metadata": {},
   "outputs": [
    {
     "name": "stdout",
     "output_type": "stream",
     "text": [
      "<class 'pandas.core.frame.DataFrame'>\n",
      "Int64Index: 1134 entries, 0 to 2563\n",
      "Data columns (total 8 columns):\n",
      " #   Column   Non-Null Count  Dtype  \n",
      "---  ------   --------------  -----  \n",
      " 0   Kiralik  1134 non-null   object \n",
      " 1   Tanim    1133 non-null   object \n",
      " 2   Oda      1134 non-null   float64\n",
      " 3   Alan     1134 non-null   float64\n",
      " 4   Yas      1134 non-null   float64\n",
      " 5   Kat      1134 non-null   object \n",
      " 6   Fiyat    1134 non-null   float64\n",
      " 7   Konum    1134 non-null   object \n",
      "dtypes: float64(4), object(4)\n",
      "memory usage: 79.7+ KB\n"
     ]
    }
   ],
   "source": [
    "df.info()"
   ]
  },
  {
   "cell_type": "code",
   "execution_count": 37,
   "id": "77fd6297",
   "metadata": {},
   "outputs": [
    {
     "data": {
      "text/plain": [
       "Kiralik       5\n",
       "Tanim      1098\n",
       "Oda           7\n",
       "Alan         80\n",
       "Yas          33\n",
       "Kat          36\n",
       "Fiyat       127\n",
       "Konum       101\n",
       "dtype: int64"
      ]
     },
     "execution_count": 37,
     "metadata": {},
     "output_type": "execute_result"
    }
   ],
   "source": [
    "df.nunique()"
   ]
  },
  {
   "cell_type": "code",
   "execution_count": 38,
   "id": "10d5f1bf",
   "metadata": {},
   "outputs": [],
   "source": [
    "df_dummies = pd.get_dummies(df.drop(columns=['Tanim']), drop_first=True)\n",
    "cols = df_dummies.columns.to_list()"
   ]
  },
  {
   "cell_type": "code",
   "execution_count": 39,
   "id": "023e8f68",
   "metadata": {},
   "outputs": [],
   "source": [
    "from sklearn.preprocessing import MinMaxScaler\n",
    "scaler=MinMaxScaler()\n",
    "df_dummies=scaler.fit_transform(df_dummies)\n",
    "df_dummies=pd.DataFrame(df_dummies, columns=cols)"
   ]
  },
  {
   "cell_type": "code",
   "execution_count": 40,
   "id": "ee0e30cf",
   "metadata": {},
   "outputs": [],
   "source": [
    "x=df_dummies.drop(columns=['Fiyat'])\n",
    "y=df_dummies['Fiyat']"
   ]
  },
  {
   "cell_type": "code",
   "execution_count": 41,
   "id": "a4b2affd",
   "metadata": {},
   "outputs": [
    {
     "data": {
      "text/html": [
       "<div>\n",
       "<style scoped>\n",
       "    .dataframe tbody tr th:only-of-type {\n",
       "        vertical-align: middle;\n",
       "    }\n",
       "\n",
       "    .dataframe tbody tr th {\n",
       "        vertical-align: top;\n",
       "    }\n",
       "\n",
       "    .dataframe thead th {\n",
       "        text-align: right;\n",
       "    }\n",
       "</style>\n",
       "<table border=\"1\" class=\"dataframe\">\n",
       "  <thead>\n",
       "    <tr style=\"text-align: right;\">\n",
       "      <th></th>\n",
       "      <th>R2_score</th>\n",
       "      <th>RMSE</th>\n",
       "      <th>MAE</th>\n",
       "    </tr>\n",
       "  </thead>\n",
       "  <tbody>\n",
       "    <tr>\n",
       "      <th>Ridge</th>\n",
       "      <td>0.628959</td>\n",
       "      <td>0.162641</td>\n",
       "      <td>0.123957</td>\n",
       "    </tr>\n",
       "    <tr>\n",
       "      <th>Gradient Boosting</th>\n",
       "      <td>0.626289</td>\n",
       "      <td>0.163225</td>\n",
       "      <td>0.126483</td>\n",
       "    </tr>\n",
       "    <tr>\n",
       "      <th>XGradientBoosting</th>\n",
       "      <td>0.577125</td>\n",
       "      <td>0.173630</td>\n",
       "      <td>0.127707</td>\n",
       "    </tr>\n",
       "    <tr>\n",
       "      <th>KNeighbors</th>\n",
       "      <td>0.547376</td>\n",
       "      <td>0.179634</td>\n",
       "      <td>0.143690</td>\n",
       "    </tr>\n",
       "    <tr>\n",
       "      <th>Lasso</th>\n",
       "      <td>-0.021108</td>\n",
       "      <td>0.269808</td>\n",
       "      <td>0.231168</td>\n",
       "    </tr>\n",
       "    <tr>\n",
       "      <th>ElasticNet</th>\n",
       "      <td>-0.021108</td>\n",
       "      <td>0.269808</td>\n",
       "      <td>0.231168</td>\n",
       "    </tr>\n",
       "  </tbody>\n",
       "</table>\n",
       "</div>"
      ],
      "text/plain": [
       "                   R2_score      RMSE       MAE\n",
       "Ridge              0.628959  0.162641  0.123957\n",
       "Gradient Boosting  0.626289  0.163225  0.126483\n",
       "XGradientBoosting  0.577125  0.173630  0.127707\n",
       "KNeighbors         0.547376  0.179634  0.143690\n",
       "Lasso             -0.021108  0.269808  0.231168\n",
       "ElasticNet        -0.021108  0.269808  0.231168"
      ]
     },
     "execution_count": 41,
     "metadata": {},
     "output_type": "execute_result"
    }
   ],
   "source": [
    "algo_test(x,y)"
   ]
  },
  {
   "cell_type": "code",
   "execution_count": 42,
   "id": "297e2f41",
   "metadata": {},
   "outputs": [
    {
     "data": {
      "text/html": [
       "<div>\n",
       "<style scoped>\n",
       "    .dataframe tbody tr th:only-of-type {\n",
       "        vertical-align: middle;\n",
       "    }\n",
       "\n",
       "    .dataframe tbody tr th {\n",
       "        vertical-align: top;\n",
       "    }\n",
       "\n",
       "    .dataframe thead th {\n",
       "        text-align: right;\n",
       "    }\n",
       "</style>\n",
       "<table border=\"1\" class=\"dataframe\">\n",
       "  <thead>\n",
       "    <tr style=\"text-align: right;\">\n",
       "      <th></th>\n",
       "      <th>Oda</th>\n",
       "      <th>Alan</th>\n",
       "      <th>Yas</th>\n",
       "      <th>Fiyat</th>\n",
       "    </tr>\n",
       "  </thead>\n",
       "  <tbody>\n",
       "    <tr>\n",
       "      <th>Oda</th>\n",
       "      <td>1.000000</td>\n",
       "      <td>0.745737</td>\n",
       "      <td>-0.014328</td>\n",
       "      <td>0.228305</td>\n",
       "    </tr>\n",
       "    <tr>\n",
       "      <th>Alan</th>\n",
       "      <td>0.745737</td>\n",
       "      <td>1.000000</td>\n",
       "      <td>-0.177249</td>\n",
       "      <td>0.471883</td>\n",
       "    </tr>\n",
       "    <tr>\n",
       "      <th>Yas</th>\n",
       "      <td>-0.014328</td>\n",
       "      <td>-0.177249</td>\n",
       "      <td>1.000000</td>\n",
       "      <td>-0.327004</td>\n",
       "    </tr>\n",
       "    <tr>\n",
       "      <th>Fiyat</th>\n",
       "      <td>0.228305</td>\n",
       "      <td>0.471883</td>\n",
       "      <td>-0.327004</td>\n",
       "      <td>1.000000</td>\n",
       "    </tr>\n",
       "  </tbody>\n",
       "</table>\n",
       "</div>"
      ],
      "text/plain": [
       "            Oda      Alan       Yas     Fiyat\n",
       "Oda    1.000000  0.745737 -0.014328  0.228305\n",
       "Alan   0.745737  1.000000 -0.177249  0.471883\n",
       "Yas   -0.014328 -0.177249  1.000000 -0.327004\n",
       "Fiyat  0.228305  0.471883 -0.327004  1.000000"
      ]
     },
     "execution_count": 42,
     "metadata": {},
     "output_type": "execute_result"
    }
   ],
   "source": [
    "df.corr()"
   ]
  },
  {
   "cell_type": "markdown",
   "id": "af581bd7",
   "metadata": {},
   "source": [
    "## Deep Learning"
   ]
  },
  {
   "cell_type": "code",
   "execution_count": 43,
   "id": "77cf1d81",
   "metadata": {},
   "outputs": [],
   "source": [
    "x_train, x_test, y_train, y_test = train_test_split(x,y, test_size=.2, random_state=7)"
   ]
  },
  {
   "cell_type": "code",
   "execution_count": 44,
   "id": "02152402",
   "metadata": {},
   "outputs": [],
   "source": [
    "from tensorflow.keras.layers import Dense, Flatten, Dropout, LSTM, Embedding, Bidirectional, BatchNormalization\n",
    "model=Sequential()\n",
    "model.add(Dense(81, activation='relu'))\n",
    "model.add(Dense(40, activation='relu'))\n",
    "model.add(Dense(27, activation='relu'))\n",
    "model.add(Dropout(0.3))\n",
    "model.add(Dense(19, activation='relu'))\n",
    "model.add(Dense(5, activation='relu'))\n",
    "model.add(Dense(3, activation='relu'))\n",
    "model.add(Dense(1))\n",
    "model.compile(optimizer='Adam', loss='mse')"
   ]
  },
  {
   "cell_type": "code",
   "execution_count": 45,
   "id": "bae226ca",
   "metadata": {
    "scrolled": true
   },
   "outputs": [
    {
     "name": "stdout",
     "output_type": "stream",
     "text": [
      "Epoch 1/30\n",
      "29/29 [==============================] - 1s 13ms/step - loss: 0.0946 - val_loss: 0.0595\n",
      "Epoch 2/30\n",
      "29/29 [==============================] - 0s 6ms/step - loss: 0.0593 - val_loss: 0.0459\n",
      "Epoch 3/30\n",
      "29/29 [==============================] - 0s 10ms/step - loss: 0.0454 - val_loss: 0.0353\n",
      "Epoch 4/30\n",
      "29/29 [==============================] - 0s 5ms/step - loss: 0.0353 - val_loss: 0.0297\n",
      "Epoch 5/30\n",
      "29/29 [==============================] - 0s 5ms/step - loss: 0.0306 - val_loss: 0.0281\n",
      "Epoch 6/30\n",
      "29/29 [==============================] - 0s 5ms/step - loss: 0.0253 - val_loss: 0.0274\n",
      "Epoch 7/30\n",
      "29/29 [==============================] - 0s 5ms/step - loss: 0.0220 - val_loss: 0.0273\n",
      "Epoch 8/30\n",
      "29/29 [==============================] - 0s 5ms/step - loss: 0.0211 - val_loss: 0.0274\n",
      "Epoch 9/30\n",
      "29/29 [==============================] - 0s 5ms/step - loss: 0.0205 - val_loss: 0.0282\n",
      "Epoch 10/30\n",
      "29/29 [==============================] - 0s 6ms/step - loss: 0.0181 - val_loss: 0.0280\n",
      "Epoch 11/30\n",
      "29/29 [==============================] - 0s 6ms/step - loss: 0.0172 - val_loss: 0.0289\n",
      "Epoch 12/30\n",
      "29/29 [==============================] - 0s 4ms/step - loss: 0.0168 - val_loss: 0.0294\n",
      "Epoch 13/30\n",
      "29/29 [==============================] - 0s 5ms/step - loss: 0.0152 - val_loss: 0.0285\n",
      "Epoch 14/30\n",
      "29/29 [==============================] - 0s 4ms/step - loss: 0.0147 - val_loss: 0.0296\n",
      "Epoch 15/30\n",
      "29/29 [==============================] - 0s 5ms/step - loss: 0.0133 - val_loss: 0.0306\n",
      "Epoch 16/30\n",
      "29/29 [==============================] - 0s 6ms/step - loss: 0.0128 - val_loss: 0.0302\n",
      "Epoch 17/30\n",
      "29/29 [==============================] - 0s 5ms/step - loss: 0.0120 - val_loss: 0.0299\n",
      "Epoch 18/30\n",
      "29/29 [==============================] - 0s 5ms/step - loss: 0.0127 - val_loss: 0.0290\n",
      "Epoch 19/30\n",
      "29/29 [==============================] - 0s 5ms/step - loss: 0.0121 - val_loss: 0.0299\n",
      "Epoch 20/30\n",
      "29/29 [==============================] - 0s 5ms/step - loss: 0.0104 - val_loss: 0.0294\n",
      "Epoch 21/30\n",
      "29/29 [==============================] - 0s 4ms/step - loss: 0.0109 - val_loss: 0.0297\n",
      "Epoch 22/30\n",
      "29/29 [==============================] - 0s 6ms/step - loss: 0.0099 - val_loss: 0.0313\n",
      "Epoch 23/30\n",
      "29/29 [==============================] - 0s 5ms/step - loss: 0.0095 - val_loss: 0.0313\n",
      "Epoch 24/30\n",
      "29/29 [==============================] - 0s 4ms/step - loss: 0.0099 - val_loss: 0.0316\n",
      "Epoch 25/30\n",
      "29/29 [==============================] - 0s 6ms/step - loss: 0.0114 - val_loss: 0.0313\n",
      "Epoch 26/30\n",
      "29/29 [==============================] - 0s 4ms/step - loss: 0.0087 - val_loss: 0.0309\n",
      "Epoch 27/30\n",
      "29/29 [==============================] - 0s 4ms/step - loss: 0.0091 - val_loss: 0.0313\n",
      "Epoch 28/30\n",
      "29/29 [==============================] - 0s 5ms/step - loss: 0.0082 - val_loss: 0.0306\n",
      "Epoch 29/30\n",
      "29/29 [==============================] - 0s 6ms/step - loss: 0.0095 - val_loss: 0.0310\n",
      "Epoch 30/30\n",
      "29/29 [==============================] - 0s 5ms/step - loss: 0.0092 - val_loss: 0.0321\n"
     ]
    },
    {
     "data": {
      "text/plain": [
       "<keras.callbacks.History at 0x246464bb7f0>"
      ]
     },
     "execution_count": 45,
     "metadata": {},
     "output_type": "execute_result"
    }
   ],
   "source": [
    "model.fit(x=x_train,y=y_train,validation_data=(x_test,y_test),verbose=1,epochs=30 )"
   ]
  },
  {
   "cell_type": "code",
   "execution_count": 46,
   "id": "e9c5be79",
   "metadata": {},
   "outputs": [
    {
     "name": "stdout",
     "output_type": "stream",
     "text": [
      "8/8 [==============================] - 0s 2ms/step\n"
     ]
    }
   ],
   "source": [
    "pred=model.predict(x_test)"
   ]
  },
  {
   "cell_type": "code",
   "execution_count": 47,
   "id": "d99da351",
   "metadata": {},
   "outputs": [
    {
     "data": {
      "text/plain": [
       "0.17928778287780203"
      ]
     },
     "execution_count": 47,
     "metadata": {},
     "output_type": "execute_result"
    }
   ],
   "source": [
    "(mean_squared_error(y_test, pred))**.5"
   ]
  },
  {
   "cell_type": "code",
   "execution_count": 48,
   "id": "89a9e86f",
   "metadata": {},
   "outputs": [
    {
     "data": {
      "text/plain": [
       "0.476604740568921"
      ]
     },
     "execution_count": 48,
     "metadata": {},
     "output_type": "execute_result"
    }
   ],
   "source": [
    "r2_score(y_test, pred)"
   ]
  },
  {
   "cell_type": "code",
   "execution_count": null,
   "id": "9820f063",
   "metadata": {},
   "outputs": [],
   "source": []
  }
 ],
 "metadata": {
  "kernelspec": {
   "display_name": "Python 3 (ipykernel)",
   "language": "python",
   "name": "python3"
  },
  "language_info": {
   "codemirror_mode": {
    "name": "ipython",
    "version": 3
   },
   "file_extension": ".py",
   "mimetype": "text/x-python",
   "name": "python",
   "nbconvert_exporter": "python",
   "pygments_lexer": "ipython3",
   "version": "3.9.12"
  },
  "toc": {
   "base_numbering": 1,
   "nav_menu": {},
   "number_sections": true,
   "sideBar": true,
   "skip_h1_title": false,
   "title_cell": "Table of Contents",
   "title_sidebar": "Contents",
   "toc_cell": false,
   "toc_position": {},
   "toc_section_display": true,
   "toc_window_display": false
  },
  "varInspector": {
   "cols": {
    "lenName": 16,
    "lenType": 16,
    "lenVar": 40
   },
   "kernels_config": {
    "python": {
     "delete_cmd_postfix": "",
     "delete_cmd_prefix": "del ",
     "library": "var_list.py",
     "varRefreshCmd": "print(var_dic_list())"
    },
    "r": {
     "delete_cmd_postfix": ") ",
     "delete_cmd_prefix": "rm(",
     "library": "var_list.r",
     "varRefreshCmd": "cat(var_dic_list()) "
    }
   },
   "types_to_exclude": [
    "module",
    "function",
    "builtin_function_or_method",
    "instance",
    "_Feature"
   ],
   "window_display": false
  }
 },
 "nbformat": 4,
 "nbformat_minor": 5
}
